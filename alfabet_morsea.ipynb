{
 "cells": [
  {
   "cell_type": "markdown",
   "metadata": {
    "collapsed": true,
    "pycharm": {
     "name": "#%% md\n"
    }
   },
   "source": [
    "# Alfabet Morse'a\n",
    "\n",
    "Alfabet Morse'a został stworzony przez Samuela Morse’a i Alfreda Vaila w roku 1838\n",
    "jako specjalny kod reprezentujący znaki alfabetu oraz znaki specjalne za pomocą krótkich i długich sygnałów.\n",
    "Sygnały w alfabecie Morse'a mogą być reprezentowane za pomocą dźwięków, błysków światła, impulsów elektrycznych,\n",
    "lub znaków w postaci kresek i kropek.\n",
    "\n",
    "## Kodowanie sygnału\n",
    "\n",
    "Przyjmuje się, że kreska oznacza sygnał długi, a kropka oznacza sygnał krótki.\n",
    "Długi sygnał powinien trwać w przybliżeniu 3 krótkie sygnały, czyli jedna kreska powinna trwać trzy kropki.\n",
    "\n",
    "Odstępy:\n",
    "- pomiędzy składowymi każdego znaku: jedna kropka;\n",
    "- pomiędzy znakami w każdym słowie: 3 kropki, bądź jedna kreska;\n",
    "- pomiędzy słowami, bądź grupami znaków: 7 kropek.\n",
    "\n",
    "## Zastosowania\n",
    "\n",
    "Alfabet Morse'a został stworzony z myślą o zastosowaniu w telegrafach elektrycznych.\n",
    "Pół wieku po stworzeniu był już szeroko wykorzystywany w telekomunikacji radiowej.\n",
    "\n",
    "Obecnie Alfabet Morse'a jest wykorzystywany głównie przez krótkofalarzy z uwagi na uznanie go jako międzynarodowy kod radiowy.\n",
    "\n",
    "Wykorzystanie alfabetu Morse'a w zaawansowanej telekomunikacji radiowej zostało prawie całkowicie wyparte przez nowsze protokoły komunikacyjne.\n",
    "Nieliczne z zastosowań w tym obszarze można znaleźć w urządzeniach radionawigacyjnych, takich jak VOR i NDB, które wysyłają swoje identyfikatory za pomocą Alfabetu Morse'a.\n",
    "\n",
    "## Reprezentacja znaków w formie tekstowej\n",
    "\n",
    "Jedna kropka odstępu jest tożsama z jedną spacją. Zatem trzy kropki odstępu między znakami będą tożsame jednej spacji.\n",
    "\n",
    "| Znak | Sygnał        |\n",
    "|------|---------------|\n",
    "| A    | . -           |\n",
    "| B    | - . . .       |\n",
    "| C    | - . - .       |\n",
    "| D    | - . .         |\n",
    "| E    | .             |\n",
    "| F    | . . - .       |\n",
    "| G    | - - .         |\n",
    "| H    | . . . .       |\n",
    "| I    | . .           |\n",
    "| J    | . - - -       |\n",
    "| K    | - . -         |\n",
    "| L    | . - . .       |\n",
    "| M    | - -           |\n",
    "| N    | - .           |\n",
    "| O    | - - -         |\n",
    "| P    | . - - .       |\n",
    "| Q    | - - . -       |\n",
    "| R    | . - .         |\n",
    "| S    | . . .         |\n",
    "| T    | -             |\n",
    "| U    | . . -         |\n",
    "| V    | . . . -       |\n",
    "| W    | . - -         |\n",
    "| X    | - . . -       |\n",
    "| Y    | - . - -       |\n",
    "| Z    | - - . .       |\n",
    "| Ą    | . - . -       |\n",
    "| Ć    | - . - . .     |\n",
    "| Ę    | . . - . .     |\n",
    "| Ł    | . - . . -     |\n",
    "| Ń    | - - . - -     |\n",
    "| Ó    | - - - .       |\n",
    "| Ś    | . . . - . . . |\n",
    "| Ż    | - - . . - .   |\n",
    "| Ź    | - - . . -     |\n",
    "| 1    | . - - - -     |\n",
    "| 2    | . . - - -     |\n",
    "| 3    | . . . - -     |\n",
    "| 4    | . . . . -     |\n",
    "| 5    | . . . . .     |\n",
    "| 6    | - . . . .     |\n",
    "| 7    | - - . . .     |\n",
    "| 8    | - - - . .     |\n",
    "| 9    | - - - - .     |\n",
    "| 0    | - - - - -     |\n",
    "\n",
    "### Przykłady:\n",
    "- SOS: . . .&nbsp;&nbsp;&nbsp;- - -&nbsp;&nbsp;&nbsp;. . .\n",
    "- ALA MA KOTA: . -&nbsp;&nbsp;&nbsp;. - . .&nbsp;&nbsp;&nbsp;. -&nbsp;&nbsp;&nbsp;&nbsp;&nbsp;&nbsp;&nbsp;- -&nbsp;&nbsp;&nbsp;. -&nbsp;&nbsp;&nbsp;&nbsp;&nbsp;&nbsp;&nbsp;- . -&nbsp;&nbsp;&nbsp;- - -&nbsp;&nbsp;&nbsp;-&nbsp;&nbsp;&nbsp;. -\n",
    "\n",
    "## Implementacja\n",
    "\n",
    "Do implementacji narzędzia kodującego i dekodującego sygnał według Alfabetu Morse'a zostanie wykorzystany język Python.\n",
    "\n",
    "### Słownik mapujący znaki na sygnały\n",
    "\n",
    "Słownik zostanie zadeklarowany jako stała CHARS oznaczona jako typ Dict[str, str],\n",
    "gdzie zarówno klucz jak i wartość będą typu str (tekstowego)."
   ]
  },
  {
   "cell_type": "code",
   "execution_count": null,
   "outputs": [],
   "source": [
    "from typing import Dict\n",
    "\n",
    "CHARS: Dict[str, str] = {\n",
    "    'A': '. -',\n",
    "    'B': '- . . .',\n",
    "    'C': '- . - .',\n",
    "    'D': '- . .',\n",
    "    'E': '.',\n",
    "    'F': '. . - .',\n",
    "    'G': '- - .',\n",
    "    'H': '. . . .',\n",
    "    'I': '. .',\n",
    "    'J': '. - - -',\n",
    "    'K': '- . -',\n",
    "    'L': '. - . .',\n",
    "    'M': '- -',\n",
    "    'N': '- .',\n",
    "    'O': '- - -',\n",
    "    'P': '. - - .',\n",
    "    'Q': '- - . -',\n",
    "    'R': '. - .',\n",
    "    'S': '. . .',\n",
    "    'T': '-',\n",
    "    'U': '. . -',\n",
    "    'V': '. . . -',\n",
    "    'W': '. - -',\n",
    "    'X': '- . . -',\n",
    "    'Y': '- . - -',\n",
    "    'Z': '- - . .',\n",
    "    'Ą': '. - . -',\n",
    "    'Ć': '- . - . .',\n",
    "    'Ę': '. . - . .',\n",
    "    'Ł': '. - . . -',\n",
    "    'Ń': '- - . - -',\n",
    "    'Ó': '- - - .',\n",
    "    'Ś': '. . . - . . .',\n",
    "    'Ż': '- - . . - .',\n",
    "    'Ź': '- - . . -',\n",
    "    '1': '. - - - -',\n",
    "    '2': '. . - - -',\n",
    "    '3': '. . . - -',\n",
    "    '4': '. . . . -',\n",
    "    '5': '. . . . .',\n",
    "    '6': '- . . . .',\n",
    "    '7': '- - . . .',\n",
    "    '8': '- - - . .',\n",
    "    '9': '- - - - .',\n",
    "    '0': '- - - - -',\n",
    "}"
   ],
   "metadata": {
    "collapsed": false,
    "pycharm": {
     "name": "#%%\n"
    }
   }
  },
  {
   "cell_type": "markdown",
   "source": [
    "### Stałe definiujące odstępy\n",
    "\n",
    "Warto zdefiniować odstępy między znakami i słowami jako stałe.\n",
    "CHAR_BREAK wynosi trzy spacje i definiuje odstęp między znakami,\n",
    "a WORD_BREAK wynosi siedem spacji i definiuje odstęp między słowami.\n",
    "Obie stałe są oznaczone jako typ str, czyli tekstowy."
   ],
   "metadata": {
    "collapsed": false,
    "pycharm": {
     "name": "#%% md\n"
    }
   }
  },
  {
   "cell_type": "code",
   "execution_count": null,
   "outputs": [],
   "source": [
    "CHAR_BREAK: str = '   '\n",
    "WORD_BREAK: str = '       '"
   ],
   "metadata": {
    "collapsed": false,
    "pycharm": {
     "name": "#%%\n"
    }
   }
  },
  {
   "cell_type": "markdown",
   "source": [
    "### Funkcja dekodująca słowo\n",
    "\n",
    "Funkcja decode_word() służy do dekodowania sekwencji znaków zakodowanej w alfabecie Morse'a do sekwencji znaków\n",
    "w alfabecie łacińskim. Funkcja przyjmuje jeden parametr w postaci listy ciągów znaków,\n",
    "gdzie każdym elementem listy jest ciąg znaków reprezentujący jeden znak w alfabecie Morse'a.\n",
    "Funkcja zwraca zdekodowany ciąg znaków w alfabecie łacińskim.\n",
    "\n",
    "Przykładowo, listę składająca się z elementów [. . ., - - -, . . .] funkcja zamieni na ciąg znaków \"SOS\"."
   ],
   "metadata": {
    "collapsed": false,
    "pycharm": {
     "name": "#%% md\n"
    }
   }
  },
  {
   "cell_type": "code",
   "execution_count": null,
   "outputs": [],
   "source": [
    "from typing import List\n",
    "\n",
    "def decode_word(word: List[str]) -> str:\n",
    "    return ''.join([list(CHARS.keys())[list(CHARS.values()).index(char)] for char in word])"
   ],
   "metadata": {
    "collapsed": false,
    "pycharm": {
     "name": "#%%\n"
    }
   }
  },
  {
   "cell_type": "markdown",
   "source": [
    "### Funkcja kodująca słowo\n",
    "\n",
    "Funkcja encode_word() przyjmuje w parametrze ciąg znaków będący słowem w alfabecie Morse'a\n",
    "i zwraca ciąg znaków w alfabecie łacińskim reprezentujący słowo.\n",
    "\n",
    "Przykładowo, ciąg znaków \"SOS\" funkcja zamieni na ciąg \". . .&nbsp;&nbsp;&nbsp;- - -&nbsp;&nbsp;&nbsp;. . .\""
   ],
   "metadata": {
    "collapsed": false,
    "pycharm": {
     "name": "#%% md\n"
    }
   }
  },
  {
   "cell_type": "code",
   "execution_count": null,
   "outputs": [],
   "source": [
    "def encode_word(word: str) -> str:\n",
    "    return CHAR_BREAK.join([f'{CHARS[char]}' for char in word])"
   ],
   "metadata": {
    "collapsed": false,
    "pycharm": {
     "name": "#%%\n"
    }
   }
  },
  {
   "cell_type": "markdown",
   "source": [
    "### Funkcja dekodująca zdanie\n",
    "\n",
    "Funkcja decode_sentence() przyjmuje w parametrze listę list (lista dwuwymiarowa, macierz),\n",
    "gdzie każdy wiersz reprezentuje oddzielne słowo zdania zakodowane w alfabecie Morse'a.\n",
    "Funkcja zwraca ciąg znaków zawierający zdekodowane zdanie w alfabecie łacińskim.\n",
    "\n",
    "Przykładowo, zdanie zakodowane w liście dwuwymiarowej\n",
    "[\n",
    "    [. . ., - - -, . . .],\n",
    "    [. . ., - -, . . .]\n",
    "]\n",
    "\n",
    "funkcja zamieni na ciąg znaków \"SOS SMS\"."
   ],
   "metadata": {
    "collapsed": false,
    "pycharm": {
     "name": "#%% md\n"
    }
   }
  },
  {
   "cell_type": "code",
   "execution_count": null,
   "outputs": [],
   "source": [
    "def decode_sentence(sentence: List[List[str]]) -> str:\n",
    "    return ' '.join([decode_word(word) for word in sentence])"
   ],
   "metadata": {
    "collapsed": false,
    "pycharm": {
     "name": "#%%\n"
    }
   }
  },
  {
   "cell_type": "markdown",
   "source": [
    "## Zadanie\n",
    "\n",
    "Przy użyciu fragmentów kodu przedstawiających częściową implementację narzędzia kodującego i dekodującego sygnał według\n",
    "alfabetu Morse'a przygotować kompletne narzędzie, w którym zostaną zawarte następujące funkcje:"
   ],
   "metadata": {
    "collapsed": false,
    "pycharm": {
     "name": "#%% md\n"
    }
   }
  },
  {
   "cell_type": "code",
   "execution_count": null,
   "outputs": [],
   "source": [
    "# funkcja kodujaca tekst (zdanie) do postaci sygnalow w alfabecie Morse'a\n",
    "def encode(sentence: str) -> str:\n",
    "    pass\n",
    "\n",
    "\n",
    "# funkcja dekodujaca sygnal zakodowany w alfabecie Morse'a do alfabetu lacinskiego\n",
    "def decode(signal: str) -> str:\n",
    "    pass"
   ],
   "metadata": {
    "collapsed": false,
    "pycharm": {
     "name": "#%%\n"
    }
   }
  },
  {
   "cell_type": "markdown",
   "source": [
    "Zatem funkcje encode() i decode() powinny stanowić uzupełnienie wyżej zaprezentowanych kodów źródłowych\n",
    "do uzyskania narzędzia konwertującego tekst na sygnały znakowe w alfabecie Morse'a i odwrotnie.\n"
   ],
   "metadata": {
    "collapsed": false,
    "pycharm": {
     "name": "#%% md\n"
    }
   }
  }
 ],
 "metadata": {
  "kernelspec": {
   "display_name": "Python 3",
   "language": "python",
   "name": "python3"
  },
  "language_info": {
   "codemirror_mode": {
    "name": "ipython",
    "version": 2
   },
   "file_extension": ".py",
   "mimetype": "text/x-python",
   "name": "python",
   "nbconvert_exporter": "python",
   "pygments_lexer": "ipython2",
   "version": "2.7.6"
  }
 },
 "nbformat": 4,
 "nbformat_minor": 0
}